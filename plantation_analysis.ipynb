{
  "nbformat": 4,
  "nbformat_minor": 0,
  "metadata": {
    "colab": {
      "provenance": [],
      "authorship_tag": "ABX9TyNtkssfsyeW14r8C0tL7/cP",
      "include_colab_link": true
    },
    "kernelspec": {
      "name": "python3",
      "display_name": "Python 3"
    },
    "language_info": {
      "name": "python"
    }
  },
  "cells": [
    {
      "cell_type": "markdown",
      "metadata": {
        "id": "view-in-github",
        "colab_type": "text"
      },
      "source": [
        "<a href=\"https://colab.research.google.com/github/thazsobral/plantation-analysis/blob/main/plantation_analysis.ipynb\" target=\"_parent\"><img src=\"https://colab.research.google.com/assets/colab-badge.svg\" alt=\"Open In Colab\"/></a>"
      ]
    },
    {
      "cell_type": "markdown",
      "source": [
        "## Comece por aqui"
      ],
      "metadata": {
        "id": "k4_EW6NrunJX"
      }
    },
    {
      "cell_type": "code",
      "source": [
        "# Instalando as bibliotecas necessárias\n",
        "!pip install rasterio geopandas fiona"
      ],
      "metadata": {
        "id": "qdxXoBVq0ye3"
      },
      "execution_count": null,
      "outputs": []
    },
    {
      "cell_type": "code",
      "source": [
        "# Importando bibliotecas\n",
        "import numpy as np\n",
        "import rasterio\n",
        "import matplotlib.pyplot as plt\n",
        "from rasterio.transform import from_origin\n",
        "import geopandas as gpd\n",
        "from shapely.geometry import Polygon\n",
        "import cv2"
      ],
      "metadata": {
        "id": "hDZKrFon0zuP"
      },
      "execution_count": null,
      "outputs": []
    },
    {
      "cell_type": "code",
      "source": [
        "# Função para calcular o índice NDVI com suporte a imagens multiespectrais\n",
        "def calculate_ndvi_multispectral(image_path):\n",
        "    with rasterio.open(image_path) as src:\n",
        "        bands = src.read()  # Lê todas as bandas\n",
        "        nir = bands[3]     # Banda 4 (NIR)\n",
        "        red = bands[2]     # Banda 3 (Red)\n",
        "        resolution = src.transform[0]  # Resolução espacial (tamanho do pixel em metros)\n",
        "        transform = src.transform       # Transformação geoespacial\n",
        "        crs = src.crs                   # Sistema de referência de coordenadas\n",
        "\n",
        "    nir = nir.astype(np.float32)\n",
        "    red = red.astype(np.float32)\n",
        "\n",
        "    ndvi = (nir - red) / (nir + red + 1e-6)  # Evita divisão por zero\n",
        "    ndvi_normalized = (ndvi - np.min(ndvi)) / (np.max(ndvi) - np.min(ndvi))\n",
        "\n",
        "    return ndvi, ndvi_normalized, resolution, transform, crs"
      ],
      "metadata": {
        "id": "nCbdn59s00-3"
      },
      "execution_count": null,
      "outputs": []
    },
    {
      "cell_type": "code",
      "source": [
        "# Função para classificar maturação\n",
        "def classify_maturation(ndvi):\n",
        "    maturation_map = np.zeros((*ndvi.shape, 3), dtype=np.uint8)\n",
        "    binary_classes = {\n",
        "        \"baixa\": (ndvi >= 0.0) & (ndvi < 0.3),\n",
        "        \"intermediaria\": (ndvi >= 0.3) & (ndvi < 0.6),\n",
        "        \"pronta\": (ndvi >= 0.6)\n",
        "    }\n",
        "\n",
        "    maturation_map[binary_classes[\"baixa\"]] = [255, 0, 0]\n",
        "    maturation_map[binary_classes[\"intermediaria\"]] = [255, 255, 0]\n",
        "    maturation_map[binary_classes[\"pronta\"]] = [0, 255, 0]\n",
        "\n",
        "    return maturation_map, binary_classes"
      ],
      "metadata": {
        "id": "RiHHuSq003in"
      },
      "execution_count": null,
      "outputs": []
    },
    {
      "cell_type": "code",
      "source": [
        "# Função para calcular a área total por classe\n",
        "def calculate_area_by_class(binary_classes, resolution):\n",
        "    pixel_area = resolution ** 2\n",
        "    areas = {}\n",
        "\n",
        "    for class_name, binary_mask in binary_classes.items():\n",
        "        class_pixels = np.sum(binary_mask)\n",
        "        areas[class_name] = class_pixels * pixel_area\n",
        "\n",
        "    return areas"
      ],
      "metadata": {
        "id": "MK4p2t2o06OP"
      },
      "execution_count": null,
      "outputs": []
    },
    {
      "cell_type": "code",
      "source": [
        "# Função para salvar o mapa de maturação como GeoTIFF\n",
        "def save_maturation_map_as_geotiff(binary_classes, transform, crs, output_path):\n",
        "    with rasterio.open(\n",
        "        output_path,\n",
        "        \"w\",\n",
        "        driver=\"GTiff\",\n",
        "        height=binary_classes[\"baixa\"].shape[0],\n",
        "        width=binary_classes[\"baixa\"].shape[1],\n",
        "        count=3,  # 3 canais (R, G, B)\n",
        "        dtype=\"uint8\",\n",
        "        crs=crs,\n",
        "        transform=transform,\n",
        "    ) as dst:\n",
        "        # Criando canais do mapa de maturação\n",
        "        dst.write((binary_classes[\"baixa\"] * 255).astype(np.uint8), 1)  # Banda vermelha\n",
        "        dst.write((binary_classes[\"intermediaria\"] * 255).astype(np.uint8), 2)  # Banda verde\n",
        "        dst.write((binary_classes[\"pronta\"] * 255).astype(np.uint8), 3)  # Banda azul"
      ],
      "metadata": {
        "id": "BKxP2jb_074P"
      },
      "execution_count": null,
      "outputs": []
    },
    {
      "cell_type": "code",
      "source": [
        "# Função para salvar métricas em um arquivo de texto\n",
        "def save_metrics(areas, output_path):\n",
        "    with open(output_path, \"w\") as f:\n",
        "        f.write(\"Áreas por classe de maturação (em m²):\\n\")\n",
        "        for class_name, area in areas.items():\n",
        "            f.write(f\" - {class_name.capitalize()}: {area:.2f} m²\\n\")"
      ],
      "metadata": {
        "id": "QnXXtZO209y3"
      },
      "execution_count": null,
      "outputs": []
    },
    {
      "cell_type": "code",
      "source": [
        "# Carregando uma imagem multiespectral\n",
        "from google.colab import files\n",
        "uploaded = files.upload()"
      ],
      "metadata": {
        "colab": {
          "base_uri": "https://localhost:8080/",
          "height": 38
        },
        "id": "w6IwmhJT0_Tf",
        "outputId": "751a75e4-2cde-4e28-be51-253ff2909d9e"
      },
      "execution_count": null,
      "outputs": [
        {
          "data": {
            "text/html": [
              "\n",
              "     <input type=\"file\" id=\"files-b84c2247-8f42-4a7f-9a4b-2ff36a87ec85\" name=\"files[]\" multiple disabled\n",
              "        style=\"border:none\" />\n",
              "     <output id=\"result-b84c2247-8f42-4a7f-9a4b-2ff36a87ec85\">\n",
              "      Upload widget is only available when the cell has been executed in the\n",
              "      current browser session. Please rerun this cell to enable.\n",
              "      </output>\n",
              "      <script>// Copyright 2017 Google LLC\n",
              "//\n",
              "// Licensed under the Apache License, Version 2.0 (the \"License\");\n",
              "// you may not use this file except in compliance with the License.\n",
              "// You may obtain a copy of the License at\n",
              "//\n",
              "//      http://www.apache.org/licenses/LICENSE-2.0\n",
              "//\n",
              "// Unless required by applicable law or agreed to in writing, software\n",
              "// distributed under the License is distributed on an \"AS IS\" BASIS,\n",
              "// WITHOUT WARRANTIES OR CONDITIONS OF ANY KIND, either express or implied.\n",
              "// See the License for the specific language governing permissions and\n",
              "// limitations under the License.\n",
              "\n",
              "/**\n",
              " * @fileoverview Helpers for google.colab Python module.\n",
              " */\n",
              "(function(scope) {\n",
              "function span(text, styleAttributes = {}) {\n",
              "  const element = document.createElement('span');\n",
              "  element.textContent = text;\n",
              "  for (const key of Object.keys(styleAttributes)) {\n",
              "    element.style[key] = styleAttributes[key];\n",
              "  }\n",
              "  return element;\n",
              "}\n",
              "\n",
              "// Max number of bytes which will be uploaded at a time.\n",
              "const MAX_PAYLOAD_SIZE = 100 * 1024;\n",
              "\n",
              "function _uploadFiles(inputId, outputId) {\n",
              "  const steps = uploadFilesStep(inputId, outputId);\n",
              "  const outputElement = document.getElementById(outputId);\n",
              "  // Cache steps on the outputElement to make it available for the next call\n",
              "  // to uploadFilesContinue from Python.\n",
              "  outputElement.steps = steps;\n",
              "\n",
              "  return _uploadFilesContinue(outputId);\n",
              "}\n",
              "\n",
              "// This is roughly an async generator (not supported in the browser yet),\n",
              "// where there are multiple asynchronous steps and the Python side is going\n",
              "// to poll for completion of each step.\n",
              "// This uses a Promise to block the python side on completion of each step,\n",
              "// then passes the result of the previous step as the input to the next step.\n",
              "function _uploadFilesContinue(outputId) {\n",
              "  const outputElement = document.getElementById(outputId);\n",
              "  const steps = outputElement.steps;\n",
              "\n",
              "  const next = steps.next(outputElement.lastPromiseValue);\n",
              "  return Promise.resolve(next.value.promise).then((value) => {\n",
              "    // Cache the last promise value to make it available to the next\n",
              "    // step of the generator.\n",
              "    outputElement.lastPromiseValue = value;\n",
              "    return next.value.response;\n",
              "  });\n",
              "}\n",
              "\n",
              "/**\n",
              " * Generator function which is called between each async step of the upload\n",
              " * process.\n",
              " * @param {string} inputId Element ID of the input file picker element.\n",
              " * @param {string} outputId Element ID of the output display.\n",
              " * @return {!Iterable<!Object>} Iterable of next steps.\n",
              " */\n",
              "function* uploadFilesStep(inputId, outputId) {\n",
              "  const inputElement = document.getElementById(inputId);\n",
              "  inputElement.disabled = false;\n",
              "\n",
              "  const outputElement = document.getElementById(outputId);\n",
              "  outputElement.innerHTML = '';\n",
              "\n",
              "  const pickedPromise = new Promise((resolve) => {\n",
              "    inputElement.addEventListener('change', (e) => {\n",
              "      resolve(e.target.files);\n",
              "    });\n",
              "  });\n",
              "\n",
              "  const cancel = document.createElement('button');\n",
              "  inputElement.parentElement.appendChild(cancel);\n",
              "  cancel.textContent = 'Cancel upload';\n",
              "  const cancelPromise = new Promise((resolve) => {\n",
              "    cancel.onclick = () => {\n",
              "      resolve(null);\n",
              "    };\n",
              "  });\n",
              "\n",
              "  // Wait for the user to pick the files.\n",
              "  const files = yield {\n",
              "    promise: Promise.race([pickedPromise, cancelPromise]),\n",
              "    response: {\n",
              "      action: 'starting',\n",
              "    }\n",
              "  };\n",
              "\n",
              "  cancel.remove();\n",
              "\n",
              "  // Disable the input element since further picks are not allowed.\n",
              "  inputElement.disabled = true;\n",
              "\n",
              "  if (!files) {\n",
              "    return {\n",
              "      response: {\n",
              "        action: 'complete',\n",
              "      }\n",
              "    };\n",
              "  }\n",
              "\n",
              "  for (const file of files) {\n",
              "    const li = document.createElement('li');\n",
              "    li.append(span(file.name, {fontWeight: 'bold'}));\n",
              "    li.append(span(\n",
              "        `(${file.type || 'n/a'}) - ${file.size} bytes, ` +\n",
              "        `last modified: ${\n",
              "            file.lastModifiedDate ? file.lastModifiedDate.toLocaleDateString() :\n",
              "                                    'n/a'} - `));\n",
              "    const percent = span('0% done');\n",
              "    li.appendChild(percent);\n",
              "\n",
              "    outputElement.appendChild(li);\n",
              "\n",
              "    const fileDataPromise = new Promise((resolve) => {\n",
              "      const reader = new FileReader();\n",
              "      reader.onload = (e) => {\n",
              "        resolve(e.target.result);\n",
              "      };\n",
              "      reader.readAsArrayBuffer(file);\n",
              "    });\n",
              "    // Wait for the data to be ready.\n",
              "    let fileData = yield {\n",
              "      promise: fileDataPromise,\n",
              "      response: {\n",
              "        action: 'continue',\n",
              "      }\n",
              "    };\n",
              "\n",
              "    // Use a chunked sending to avoid message size limits. See b/62115660.\n",
              "    let position = 0;\n",
              "    do {\n",
              "      const length = Math.min(fileData.byteLength - position, MAX_PAYLOAD_SIZE);\n",
              "      const chunk = new Uint8Array(fileData, position, length);\n",
              "      position += length;\n",
              "\n",
              "      const base64 = btoa(String.fromCharCode.apply(null, chunk));\n",
              "      yield {\n",
              "        response: {\n",
              "          action: 'append',\n",
              "          file: file.name,\n",
              "          data: base64,\n",
              "        },\n",
              "      };\n",
              "\n",
              "      let percentDone = fileData.byteLength === 0 ?\n",
              "          100 :\n",
              "          Math.round((position / fileData.byteLength) * 100);\n",
              "      percent.textContent = `${percentDone}% done`;\n",
              "\n",
              "    } while (position < fileData.byteLength);\n",
              "  }\n",
              "\n",
              "  // All done.\n",
              "  yield {\n",
              "    response: {\n",
              "      action: 'complete',\n",
              "    }\n",
              "  };\n",
              "}\n",
              "\n",
              "scope.google = scope.google || {};\n",
              "scope.google.colab = scope.google.colab || {};\n",
              "scope.google.colab._files = {\n",
              "  _uploadFiles,\n",
              "  _uploadFilesContinue,\n",
              "};\n",
              "})(self);\n",
              "</script> "
            ],
            "text/plain": [
              "<IPython.core.display.HTML object>"
            ]
          },
          "metadata": {},
          "output_type": "display_data"
        }
      ]
    },
    {
      "cell_type": "code",
      "source": [
        "# Lendo o caminho da imagem carregada\n",
        "image_path = list(uploaded.keys())[0]"
      ],
      "metadata": {
        "id": "3ej7zsbX1FSz"
      },
      "execution_count": null,
      "outputs": []
    },
    {
      "cell_type": "code",
      "source": [
        "image = cv2.imread(image_path)"
      ],
      "metadata": {
        "id": "R0WB73yH5AMe"
      },
      "execution_count": null,
      "outputs": []
    },
    {
      "cell_type": "code",
      "source": [
        "# Calculando o NDVI para a imagem multiespectral\n",
        "ndvi, ndvi_normalized, resolution, transform, crs = calculate_ndvi_multispectral(image_path)"
      ],
      "metadata": {
        "id": "1dJiEFO71GgD"
      },
      "execution_count": null,
      "outputs": []
    },
    {
      "cell_type": "code",
      "source": [
        "# Classificando a maturação\n",
        "maturation_map, binary_classes = classify_maturation(ndvi_normalized)"
      ],
      "metadata": {
        "id": "MdZfPRJ31IoT"
      },
      "execution_count": null,
      "outputs": []
    },
    {
      "cell_type": "code",
      "source": [
        "# Calculando a área total por classe\n",
        "areas = calculate_area_by_class(binary_classes, resolution)"
      ],
      "metadata": {
        "id": "d9Ptxzti1KgM"
      },
      "execution_count": null,
      "outputs": []
    },
    {
      "cell_type": "code",
      "source": [
        "# Salvando os resultados\n",
        "save_maturation_map_as_geotiff(binary_classes, transform, crs, \"maturation_map.tif\")\n",
        "save_metrics(areas, \"areas_maturation.txt\")\n",
        "\n",
        "print(\"Resultados salvos com sucesso:\")\n",
        "print(\"- Mapa de maturação salvo como GeoTIFF (maturation_map.tif)\")\n",
        "print(\"- Áreas por classe salvas em texto (areas_maturation.txt)\")"
      ],
      "metadata": {
        "id": "x-C7D3HC1MB7"
      },
      "execution_count": null,
      "outputs": []
    },
    {
      "cell_type": "code",
      "source": [
        "# Visualizando os resultados\n",
        "plt.figure(figsize=(15, 10))"
      ],
      "metadata": {
        "id": "RK6StEB91Qt_"
      },
      "execution_count": null,
      "outputs": []
    },
    {
      "cell_type": "code",
      "source": [
        "import cv2\n",
        "import matplotlib.pyplot as plt\n",
        "from google.colab.patches import cv2_imshow\n",
        "# Imagem original\n",
        "plt.subplot(1, 2, 1)\n",
        "plt.title(\"Imagem Original\")\n",
        "plt.imshow(cv2.cvtColor(image, cv2.COLOR_BGR2RGB))\n",
        "plt.axis(\"off\")"
      ],
      "metadata": {
        "id": "gSLHir6W2TFZ"
      },
      "execution_count": null,
      "outputs": []
    },
    {
      "cell_type": "code",
      "source": [
        "# NDVI\n",
        "plt.subplot(1, 2, 1)\n",
        "plt.title(\"Mapa NDVI\")\n",
        "plt.imshow(ndvi_normalized, cmap=\"Greens\")\n",
        "plt.axis(\"off\")"
      ],
      "metadata": {
        "id": "jI5bOqlw1WiH"
      },
      "execution_count": null,
      "outputs": []
    },
    {
      "cell_type": "code",
      "source": [
        "# Mapa de maturação\n",
        "plt.subplot(1, 2, 2)\n",
        "plt.title(\"Classificação de Maturação\")\n",
        "plt.imshow(maturation_map)\n",
        "plt.axis(\"off\")"
      ],
      "metadata": {
        "id": "yi-8DdJD1XkX"
      },
      "execution_count": null,
      "outputs": []
    },
    {
      "cell_type": "code",
      "source": [
        "from matplotlib.patches import Patch  # Importação da classe Patch\n",
        "# Adicionando legenda\n",
        "legend_patches = [\n",
        "    Patch(color='red', label='Baixa Maturação'),\n",
        "    Patch(color='yellow', label='Maturação Intermediária'),\n",
        "    Patch(color='green', label='Pronta para Colheita')\n",
        "]\n",
        "plt.legend(handles=legend_patches, loc='lower right', fontsize='medium', frameon=True)"
      ],
      "metadata": {
        "id": "aVIuI5sl1zk_"
      },
      "execution_count": null,
      "outputs": []
    },
    {
      "cell_type": "code",
      "source": [
        "plt.show()"
      ],
      "metadata": {
        "id": "8K2DsSTC2EYM"
      },
      "execution_count": null,
      "outputs": []
    }
  ]
}